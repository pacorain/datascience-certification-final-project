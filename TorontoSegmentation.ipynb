{
 "cells": [
  {
   "cell_type": "markdown",
   "metadata": {},
   "source": [
    "# Segmenting and Clustering Neighborhoods in Toronto\n",
    "\n",
    "My coursera submission to segment and cluster neighborhoods.\n",
    "\n",
    "<span style=\"font-size:xx-small;\"><b>Do not copy or distribute.</b></span>"
   ]
  },
  {
   "cell_type": "code",
   "execution_count": 1,
   "metadata": {},
   "outputs": [],
   "source": [
    "import pandas as pd\n",
    "import numpy as np\n",
    "import requests\n",
    "import json\n",
    "\n",
    "user_agent = 'datascience jupyter notebook/0.0 (Austin Rainwater, paco@heckin.io)'"
   ]
  },
  {
   "cell_type": "markdown",
   "metadata": {},
   "source": [
    "## Step 2\n",
    "\n",
    " > Use the Notebook to build the code to scrape the following Wikipedia page, https://en.wikipedia.org/wiki/List_of_postal_codes_of_Canada:_M, in order to obtain the data that is in the table of postal codes and to transform the data into a pandas dataframe like the one shown below:"
   ]
  },
  {
   "cell_type": "markdown",
   "metadata": {},
   "source": [
    "I will start by grabbing the data from Wikipedia using its API.\n",
    "\n",
    "See https://stackoverflow.com/questions/40210536/how-to-obtain-data-in-a-table-from-wikipedia-api"
   ]
  },
  {
   "cell_type": "code",
   "execution_count": 2,
   "metadata": {},
   "outputs": [
    {
     "data": {
      "text/plain": [
       "'Section index is 1'"
      ]
     },
     "execution_count": 2,
     "metadata": {},
     "output_type": "execute_result"
    }
   ],
   "source": [
    "url = 'https://en.wikipedia.org/w/api.php?action=parse&format=json&prop=sections&page=List_of_postal_codes_of_Canada%3A_M'\n",
    "\n",
    "results = requests.get(url, headers={'User-Agent': user_agent}).json()\n",
    "sections = results['parse']['sections']\n",
    "\n",
    "section_index = None\n",
    "for section in sections:\n",
    "    if section['line'] == 'Toronto - 103 FSAs':\n",
    "        section_index = section['index']\n",
    "\n",
    "if section_index is None:\n",
    "    raise ValueError(\"The Toronto FSAs were not found.\")\n",
    "    \n",
    "\"Section index is \" + section_index"
   ]
  },
  {
   "cell_type": "code",
   "execution_count": 3,
   "metadata": {},
   "outputs": [
    {
     "data": {
      "text/plain": [
       "'Beginning of HTML: <div class=\"mw-parser-output\"><h2><span class=\"mw-headline\" id=\"Toronto_-_103_FSAs\"><a href=\"/wiki/Toronto\" title=\"Toronto\">Toronto</a> - 103 <a href=\"/wiki/Postal_codes_in_Canada#Forward_sortation_areas\" title=\"Postal codes in Canada\">FSAs</a></span><span class=\"mw-editsection\"><span class=\"mw-editsection-bracket\">[</span><a href=\"/w/index.php?title=List_of_postal_codes_of_Canada:_M&amp;action=edit&amp;section=1\" title=\"Edit section: Toronto - 103 FSAs\">edit</a><span class=\"mw-editsection-bracket\">]</span></span></h2>\\n<p>Note: There are no rural FSAs in Toronto, hence no postal codes should start with M0. However, the postal code M0R 8T0 is assigned to an <a href=\"/wiki/Amazon_(company)\" title=\"Amazon (company)\">Amazon</a> warehouse in Mississauga, suggesting that Canada Post may have reserved the M0 FSA for high volume addresses.\\n</p>\\n<table class=\"wikitable sortable\">\\n<tbody><tr>\\n<th>Postal Code\\n</th>\\n<th>Borough\\n</th>\\n<th>Neighbourhood\\n</th></tr>\\n<tr>\\n<td>M1A\\n</td>\\n<td>Not assigned'"
      ]
     },
     "execution_count": 3,
     "metadata": {},
     "output_type": "execute_result"
    }
   ],
   "source": [
    "url = 'https://en.wikipedia.org/w/api.php?action=parse&format=json&page=List_of_postal_codes_of_Canada%3A_M&prop=text&section=' + section_index\n",
    "\n",
    "results = requests.get(url, headers={'User-Agent': user_agent}).json()\n",
    "html = results['parse']['text']['*']\n",
    "\n",
    "\"Beginning of HTML: \" + html[:1000]"
   ]
  },
  {
   "cell_type": "markdown",
   "metadata": {},
   "source": [
    "I was going to try to build a [regular expression to parse the HTML](https://stackoverflow.com/a/1732454), but then I learned that pandas already has a [`read_html()` function](https://pandas.pydata.org/docs/reference/api/pandas.read_html.html):"
   ]
  },
  {
   "cell_type": "code",
   "execution_count": 4,
   "metadata": {},
   "outputs": [
    {
     "data": {
      "text/html": [
       "<div>\n",
       "<style scoped>\n",
       "    .dataframe tbody tr th:only-of-type {\n",
       "        vertical-align: middle;\n",
       "    }\n",
       "\n",
       "    .dataframe tbody tr th {\n",
       "        vertical-align: top;\n",
       "    }\n",
       "\n",
       "    .dataframe thead th {\n",
       "        text-align: right;\n",
       "    }\n",
       "</style>\n",
       "<table border=\"1\" class=\"dataframe\">\n",
       "  <thead>\n",
       "    <tr style=\"text-align: right;\">\n",
       "      <th></th>\n",
       "      <th>Postal Code</th>\n",
       "      <th>Borough</th>\n",
       "      <th>Neighbourhood</th>\n",
       "    </tr>\n",
       "  </thead>\n",
       "  <tbody>\n",
       "    <tr>\n",
       "      <th>0</th>\n",
       "      <td>M1A</td>\n",
       "      <td>Not assigned</td>\n",
       "      <td>Not assigned</td>\n",
       "    </tr>\n",
       "    <tr>\n",
       "      <th>1</th>\n",
       "      <td>M2A</td>\n",
       "      <td>Not assigned</td>\n",
       "      <td>Not assigned</td>\n",
       "    </tr>\n",
       "    <tr>\n",
       "      <th>2</th>\n",
       "      <td>M3A</td>\n",
       "      <td>North York</td>\n",
       "      <td>Parkwoods</td>\n",
       "    </tr>\n",
       "    <tr>\n",
       "      <th>3</th>\n",
       "      <td>M4A</td>\n",
       "      <td>North York</td>\n",
       "      <td>Victoria Village</td>\n",
       "    </tr>\n",
       "    <tr>\n",
       "      <th>4</th>\n",
       "      <td>M5A</td>\n",
       "      <td>Downtown Toronto</td>\n",
       "      <td>Regent Park, Harbourfront</td>\n",
       "    </tr>\n",
       "  </tbody>\n",
       "</table>\n",
       "</div>"
      ],
      "text/plain": [
       "  Postal Code           Borough              Neighbourhood\n",
       "0         M1A      Not assigned               Not assigned\n",
       "1         M2A      Not assigned               Not assigned\n",
       "2         M3A        North York                  Parkwoods\n",
       "3         M4A        North York           Victoria Village\n",
       "4         M5A  Downtown Toronto  Regent Park, Harbourfront"
      ]
     },
     "execution_count": 4,
     "metadata": {},
     "output_type": "execute_result"
    }
   ],
   "source": [
    "df = pd.read_html(html)[0]\n",
    "df.head()"
   ]
  },
  {
   "cell_type": "markdown",
   "metadata": {},
   "source": [
    "## Step 3\n",
    "\n",
    " > - The dataframe will consist of three columns: PostalCode, Borough, and Neighborhood\n",
    " > - Only process the cells that have an assigned borough. Ignore cells with a borough that is Not assigned.\n",
    " > - More than one neighborhood can exist in one postal code area. For example, in the table on the Wikipedia page, you will notice that M5A is listed twice and has two neighborhoods: Harbourfront and Regent Park. These two rows will be combined into one row with the neighborhoods separated with a comma as shown in row 11 in the above table.\n",
    " > - If a cell has a borough but a Not assigned neighborhood, then the neighborhood will be the same as the borough.\n",
    " > - Clean your Notebook and add Markdown cells to explain your work and any assumptions you are making.\n",
    " > - In the last cell of your notebook, use the .shape method to print the number of rows of your dataframe.\n"
   ]
  },
  {
   "cell_type": "markdown",
   "metadata": {},
   "source": [
    "I'll grab the values that are not \"`Not assigned`\", and then get the rest of the unique values to see what's left."
   ]
  },
  {
   "cell_type": "code",
   "execution_count": 5,
   "metadata": {},
   "outputs": [
    {
     "data": {
      "text/plain": [
       "array(['North York', 'Downtown Toronto', 'Etobicoke', 'Scarborough',\n",
       "       'East York', 'York', 'East Toronto', 'West Toronto',\n",
       "       'Central Toronto', 'Mississauga'], dtype=object)"
      ]
     },
     "execution_count": 5,
     "metadata": {},
     "output_type": "execute_result"
    }
   ],
   "source": [
    "df = df[df['Borough'] != 'Not assigned']\n",
    "df['Borough'].unique()"
   ]
  },
  {
   "cell_type": "markdown",
   "metadata": {},
   "source": [
    "So, looking at the page, it looks like it's been recently edited so that the format is actually as stated in the instructions. I can confirm this by seeing how many unique boroughs each postal code has, as well as how many unique neighborhood values are in each borough."
   ]
  },
  {
   "cell_type": "code",
   "execution_count": 6,
   "metadata": {},
   "outputs": [
    {
     "name": "stdout",
     "output_type": "stream",
     "text": [
      "Max unique boroughs per postal code: 1\n",
      "Max unique neighborhoods per borough: 1\n"
     ]
    }
   ],
   "source": [
    "a = df[['Postal Code', 'Borough']].groupby('Postal Code').nunique().max()\n",
    "b = df.groupby(['Postal Code', 'Borough']).nunique().max()\n",
    "print(f\"Max unique boroughs per postal code: {int(a)}\")\n",
    "print(f\"Max unique neighborhoods per borough: {int(b)}\")"
   ]
  },
  {
   "cell_type": "markdown",
   "metadata": {},
   "source": [
    "However, I am curious if I can list out the neighborhoods in each postal code."
   ]
  },
  {
   "cell_type": "code",
   "execution_count": 7,
   "metadata": {},
   "outputs": [
    {
     "data": {
      "text/html": [
       "<div>\n",
       "<style scoped>\n",
       "    .dataframe tbody tr th:only-of-type {\n",
       "        vertical-align: middle;\n",
       "    }\n",
       "\n",
       "    .dataframe tbody tr th {\n",
       "        vertical-align: top;\n",
       "    }\n",
       "\n",
       "    .dataframe thead th {\n",
       "        text-align: right;\n",
       "    }\n",
       "</style>\n",
       "<table border=\"1\" class=\"dataframe\">\n",
       "  <thead>\n",
       "    <tr style=\"text-align: right;\">\n",
       "      <th></th>\n",
       "      <th>Neighbourhood</th>\n",
       "    </tr>\n",
       "    <tr>\n",
       "      <th>Postal Code</th>\n",
       "      <th></th>\n",
       "    </tr>\n",
       "  </thead>\n",
       "  <tbody>\n",
       "    <tr>\n",
       "      <th>M1B</th>\n",
       "      <td>Malvern, Rouge</td>\n",
       "    </tr>\n",
       "    <tr>\n",
       "      <th>M1C</th>\n",
       "      <td>Rouge Hill, Port Union, Highland Creek</td>\n",
       "    </tr>\n",
       "    <tr>\n",
       "      <th>M1E</th>\n",
       "      <td>Guildwood, Morningside, West Hill</td>\n",
       "    </tr>\n",
       "    <tr>\n",
       "      <th>M1G</th>\n",
       "      <td>Woburn</td>\n",
       "    </tr>\n",
       "    <tr>\n",
       "      <th>M1H</th>\n",
       "      <td>Cedarbrae</td>\n",
       "    </tr>\n",
       "    <tr>\n",
       "      <th>...</th>\n",
       "      <td>...</td>\n",
       "    </tr>\n",
       "    <tr>\n",
       "      <th>M9N</th>\n",
       "      <td>Weston</td>\n",
       "    </tr>\n",
       "    <tr>\n",
       "      <th>M9P</th>\n",
       "      <td>Westmount</td>\n",
       "    </tr>\n",
       "    <tr>\n",
       "      <th>M9R</th>\n",
       "      <td>Kingsview Village, St. Phillips, Martin Grove ...</td>\n",
       "    </tr>\n",
       "    <tr>\n",
       "      <th>M9V</th>\n",
       "      <td>South Steeles, Silverstone, Humbergate, Jamest...</td>\n",
       "    </tr>\n",
       "    <tr>\n",
       "      <th>M9W</th>\n",
       "      <td>Northwest, West Humber - Clairville</td>\n",
       "    </tr>\n",
       "  </tbody>\n",
       "</table>\n",
       "<p>103 rows × 1 columns</p>\n",
       "</div>"
      ],
      "text/plain": [
       "                                                 Neighbourhood\n",
       "Postal Code                                                   \n",
       "M1B                                             Malvern, Rouge\n",
       "M1C                     Rouge Hill, Port Union, Highland Creek\n",
       "M1E                          Guildwood, Morningside, West Hill\n",
       "M1G                                                     Woburn\n",
       "M1H                                                  Cedarbrae\n",
       "...                                                        ...\n",
       "M9N                                                     Weston\n",
       "M9P                                                  Westmount\n",
       "M9R          Kingsview Village, St. Phillips, Martin Grove ...\n",
       "M9V          South Steeles, Silverstone, Humbergate, Jamest...\n",
       "M9W                        Northwest, West Humber - Clairville\n",
       "\n",
       "[103 rows x 1 columns]"
      ]
     },
     "execution_count": 7,
     "metadata": {},
     "output_type": "execute_result"
    }
   ],
   "source": [
    "grouped_df = df[['Postal Code', 'Neighbourhood']].groupby('Postal Code')#.transform(', '.join)\n",
    "grouped_df.aggregate(', '.join)"
   ]
  },
  {
   "cell_type": "markdown",
   "metadata": {},
   "source": [
    "I would use the same concept to perform the aggregation as requested on boroughs.\n",
    "\n",
    "Now to continue assigning a value to \"not assigned\" neighborhoods."
   ]
  },
  {
   "cell_type": "code",
   "execution_count": 8,
   "metadata": {},
   "outputs": [
    {
     "data": {
      "text/plain": [
       "False"
      ]
     },
     "execution_count": 8,
     "metadata": {},
     "output_type": "execute_result"
    }
   ],
   "source": [
    "def process_row(row):\n",
    "    if row['Neighbourhood'] == 'Not assigned':\n",
    "        return row['Borough']\n",
    "    return row['Neighbourhood']\n",
    "\n",
    "df['Neighbourhood'] = df.apply(process_row, axis=1)\n",
    "'Not assigned' in df['Neighbourhood']"
   ]
  },
  {
   "cell_type": "markdown",
   "metadata": {},
   "source": [
    "Let's finally check the shape of the dataframe."
   ]
  },
  {
   "cell_type": "code",
   "execution_count": 9,
   "metadata": {},
   "outputs": [
    {
     "data": {
      "text/plain": [
       "(103, 3)"
      ]
     },
     "execution_count": 9,
     "metadata": {},
     "output_type": "execute_result"
    }
   ],
   "source": [
    "df.shape"
   ]
  }
 ],
 "metadata": {
  "kernelspec": {
   "display_name": "Python 3",
   "language": "python",
   "name": "python3"
  },
  "language_info": {
   "codemirror_mode": {
    "name": "ipython",
    "version": 3
   },
   "file_extension": ".py",
   "mimetype": "text/x-python",
   "name": "python",
   "nbconvert_exporter": "python",
   "pygments_lexer": "ipython3",
   "version": "3.8.5"
  }
 },
 "nbformat": 4,
 "nbformat_minor": 4
}
