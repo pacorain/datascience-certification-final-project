{
 "cells": [
  {
   "cell_type": "markdown",
   "metadata": {},
   "source": [
    "# Clustering and Scoring Job Relocation Opportunities - Playground Notebook\n",
    "\n",
    "Austin Rainwater"
   ]
  },
  {
   "cell_type": "markdown",
   "metadata": {},
   "source": [
    "---"
   ]
  },
  {
   "cell_type": "markdown",
   "metadata": {},
   "source": [
    "# Initialization"
   ]
  },
  {
   "cell_type": "code",
   "execution_count": 5,
   "metadata": {},
   "outputs": [],
   "source": [
    "!pip install --quiet --upgrade sqlalchemy pymysql\n",
    "\n",
    "import pandas as pd\n",
    "import numpy as np\n",
    "\n",
    "from sqlalchemy import (\n",
    "    create_engine,\n",
    "    Table,\n",
    "    Column,\n",
    "    MetaData,\n",
    "    String,\n",
    "    Numeric\n",
    ")\n",
    "\n",
    "import yaml\n",
    "\n",
    "with open('secrets.yaml', 'r') as secrets_file:\n",
    "    secrets = yaml.safe_load(secrets_file)"
   ]
  },
  {
   "cell_type": "markdown",
   "metadata": {},
   "source": [
    "---"
   ]
  },
  {
   "cell_type": "markdown",
   "metadata": {},
   "source": [
    "# City Definition\n",
    "\n",
    "Obviously, a good place for me to start is with some cities. Below is the table definition for the cities I will be exploring and their specific traits."
   ]
  },
  {
   "cell_type": "code",
   "execution_count": 11,
   "metadata": {},
   "outputs": [
    {
     "name": "stdout",
     "output_type": "stream",
     "text": [
      "2020-11-21 01:51:51,401 INFO sqlalchemy.engine.base.Engine SHOW VARIABLES LIKE 'sql_mode'\n",
      "2020-11-21 01:51:51,402 INFO sqlalchemy.engine.base.Engine {}\n",
      "2020-11-21 01:51:51,409 INFO sqlalchemy.engine.base.Engine SHOW VARIABLES LIKE 'lower_case_table_names'\n",
      "2020-11-21 01:51:51,410 INFO sqlalchemy.engine.base.Engine {}\n",
      "2020-11-21 01:51:51,420 INFO sqlalchemy.engine.base.Engine SELECT DATABASE()\n",
      "2020-11-21 01:51:51,421 INFO sqlalchemy.engine.base.Engine {}\n",
      "2020-11-21 01:51:51,425 INFO sqlalchemy.engine.base.Engine show collation where `Charset` = 'utf8mb4' and `Collation` = 'utf8mb4_bin'\n",
      "2020-11-21 01:51:51,426 INFO sqlalchemy.engine.base.Engine {}\n",
      "2020-11-21 01:51:51,432 INFO sqlalchemy.engine.base.Engine SELECT CAST('test plain returns' AS CHAR(60)) AS anon_1\n",
      "2020-11-21 01:51:51,434 INFO sqlalchemy.engine.base.Engine {}\n",
      "2020-11-21 01:51:51,437 INFO sqlalchemy.engine.base.Engine SELECT CAST('test unicode returns' AS CHAR(60)) AS anon_1\n",
      "2020-11-21 01:51:51,439 INFO sqlalchemy.engine.base.Engine {}\n",
      "2020-11-21 01:51:51,442 INFO sqlalchemy.engine.base.Engine SELECT CAST('test collated returns' AS CHAR CHARACTER SET utf8mb4) COLLATE utf8mb4_bin AS anon_1\n",
      "2020-11-21 01:51:51,443 INFO sqlalchemy.engine.base.Engine {}\n",
      "2020-11-21 01:51:51,452 INFO sqlalchemy.engine.base.Engine DESCRIBE `cities`\n",
      "2020-11-21 01:51:51,454 INFO sqlalchemy.engine.base.Engine {}\n"
     ]
    }
   ],
   "source": [
    "engine = create_engine(secrets['db_connection_string'], echo=True)\n",
    "\n",
    "meta = MetaData()\n",
    "\n",
    "cities = Table(\n",
    "    'cities', meta,\n",
    "    Column('city_name', String(50), primary_key=True, comment='City Name'),\n",
    "    Column('metro_name', String(50), comment='Metropolitan Area Name'),\n",
    "    Column('state', String(2), nullable=False, comment='2-Letter abbreviation of State'),\n",
    "    Column('lat', Numeric(10, 6), nullable=False, comment='Latitude of City'),\n",
    "    Column('lng', Numeric(10, 6), nullable=False, comment='Longitude of City')\n",
    ")\n",
    "\n",
    "meta.create_all(engine)"
   ]
  },
  {
   "cell_type": "markdown",
   "metadata": {},
   "source": [
    "Let's start with my birthplace: Fort Wayne, Indiana."
   ]
  },
  {
   "cell_type": "code",
   "execution_count": null,
   "metadata": {},
   "outputs": [],
   "source": [
    "new_city = cities.insert()\n",
    "\n",
    "engine.execute(new_city, [\n",
    "    {''}\n",
    "])"
   ]
  }
 ],
 "metadata": {
  "kernelspec": {
   "display_name": "Python 3",
   "language": "python",
   "name": "python3"
  },
  "language_info": {
   "codemirror_mode": {
    "name": "ipython",
    "version": 3
   },
   "file_extension": ".py",
   "mimetype": "text/x-python",
   "name": "python",
   "nbconvert_exporter": "python",
   "pygments_lexer": "ipython3",
   "version": "3.8.5"
  }
 },
 "nbformat": 4,
 "nbformat_minor": 4
}
