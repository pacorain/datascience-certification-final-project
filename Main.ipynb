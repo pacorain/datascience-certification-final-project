{
 "cells": [
  {
   "cell_type": "markdown",
   "metadata": {},
   "source": [
    "# Clustering and Scoring Job Relocation Opportunities - Experimental Notebook\n",
    "\n",
    "Austin Rainwater"
   ]
  },
  {
   "cell_type": "markdown",
   "metadata": {},
   "source": [
    "---"
   ]
  },
  {
   "cell_type": "markdown",
   "metadata": {},
   "source": [
    "# Initialization"
   ]
  },
  {
   "cell_type": "code",
   "execution_count": 2,
   "metadata": {},
   "outputs": [],
   "source": [
    "!pip install --quiet --upgrade sqlalchemy pymysql\n",
    "\n",
    "import pandas as pd\n",
    "import numpy as np\n",
    "\n",
    "from sqlalchemy import (\n",
    "    create_engine,\n",
    "    Table,\n",
    "    Column,\n",
    "    MetaData,\n",
    "    String,\n",
    "    Float\n",
    ")\n",
    "\n",
    "import yaml\n",
    "\n",
    "with open('secrets.yaml', 'r') as secrets_file:\n",
    "    secrets = yaml.safe_load(secrets_file)"
   ]
  },
  {
   "cell_type": "markdown",
   "metadata": {},
   "source": [
    "---"
   ]
  },
  {
   "cell_type": "markdown",
   "metadata": {},
   "source": [
    "# Extract, Transform, Load\n",
    "\n",
    "Since the data is coming from different sources where the data is formatted differently, and I will need to make several API calls, I'm going to write some standard functions to extract, transform, and load data for various citites."
   ]
  },
  {
   "cell_type": "code",
   "execution_count": null,
   "metadata": {},
   "outputs": [],
   "source": [
    "engine = create_engine(secrets['db_connection_string'])\n",
    "\n",
    "meta = MetaData()\n",
    "\n",
    "community = Table(\n",
    "    'cities', meta,\n",
    "    Column('name', String(50), primary_key=True, comment='City Name'),\n",
    "    Column('metro_name', String(50), comment='Metropolitan Area Name'),\n",
    "    Column('lat', Float())\n",
    ")"
   ]
  }
 ],
 "metadata": {
  "kernelspec": {
   "display_name": "Python 3",
   "language": "python",
   "name": "python3"
  },
  "language_info": {
   "codemirror_mode": {
    "name": "ipython",
    "version": 3
   },
   "file_extension": ".py",
   "mimetype": "text/x-python",
   "name": "python",
   "nbconvert_exporter": "python",
   "pygments_lexer": "ipython3",
   "version": "3.8.5"
  }
 },
 "nbformat": 4,
 "nbformat_minor": 4
}
