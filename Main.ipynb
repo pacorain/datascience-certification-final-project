{
 "cells": [
  {
   "cell_type": "markdown",
   "metadata": {},
   "source": [
    "# Clustering and Scoring Job Relocation Opportunities - Playground Notebook\n",
    "\n",
    "Austin Rainwater"
   ]
  },
  {
   "cell_type": "markdown",
   "metadata": {},
   "source": [
    "---"
   ]
  },
  {
   "cell_type": "markdown",
   "metadata": {},
   "source": [
    "# Initialization"
   ]
  },
  {
   "cell_type": "code",
   "execution_count": 24,
   "metadata": {},
   "outputs": [
    {
     "ename": "ImportError",
     "evalue": "cannot import name 'quote' from 'urllib' (/opt/conda/lib/python3.8/urllib/__init__.py)",
     "output_type": "error",
     "traceback": [
      "\u001b[0;31m---------------------------------------------------------------------------\u001b[0m",
      "\u001b[0;31mImportError\u001b[0m                               Traceback (most recent call last)",
      "\u001b[0;32m<ipython-input-24-9e71d4efa474>\u001b[0m in \u001b[0;36m<module>\u001b[0;34m\u001b[0m\n\u001b[1;32m      2\u001b[0m \u001b[0;34m\u001b[0m\u001b[0m\n\u001b[1;32m      3\u001b[0m \u001b[0;32mfrom\u001b[0m \u001b[0mhelpers\u001b[0m \u001b[0;32mimport\u001b[0m \u001b[0mRenderJSON\u001b[0m\u001b[0;34m\u001b[0m\u001b[0;34m\u001b[0m\u001b[0m\n\u001b[0;32m----> 4\u001b[0;31m \u001b[0;32mfrom\u001b[0m \u001b[0murllib\u001b[0m \u001b[0;32mimport\u001b[0m \u001b[0mquote\u001b[0m \u001b[0;32mas\u001b[0m \u001b[0murl_encode\u001b[0m\u001b[0;34m\u001b[0m\u001b[0;34m\u001b[0m\u001b[0m\n\u001b[0m\u001b[1;32m      5\u001b[0m \u001b[0;34m\u001b[0m\u001b[0m\n\u001b[1;32m      6\u001b[0m \u001b[0;32mimport\u001b[0m \u001b[0mpandas\u001b[0m \u001b[0;32mas\u001b[0m \u001b[0mpd\u001b[0m\u001b[0;34m\u001b[0m\u001b[0;34m\u001b[0m\u001b[0m\n",
      "\u001b[0;31mImportError\u001b[0m: cannot import name 'quote' from 'urllib' (/opt/conda/lib/python3.8/urllib/__init__.py)"
     ]
    }
   ],
   "source": [
    "!pip install --quiet --upgrade sqlalchemy pymysql\n",
    "\n",
    "from helpers import RenderJSON\n",
    "from urllib import quote as url_encode\n",
    "\n",
    "import pandas as pd\n",
    "import numpy as np\n",
    "\n",
    "from sqlalchemy import (\n",
    "    create_engine,\n",
    "    Table,\n",
    "    Column,\n",
    "    MetaData,\n",
    "    String,\n",
    "    Numeric\n",
    ")\n",
    "\n",
    "import yaml\n",
    "\n",
    "with open('secrets.yaml', 'r') as secrets_file:\n",
    "    secrets = yaml.safe_load(secrets_file)\n",
    "    \n",
    "user_agent = 'datascience jupyter notebook/0.0 (https://github.com/pacorain/datascience-certification-final-project; Austin Rainwater, paco@heckin.io)'"
   ]
  },
  {
   "cell_type": "markdown",
   "metadata": {},
   "source": [
    "---"
   ]
  },
  {
   "cell_type": "markdown",
   "metadata": {},
   "source": [
    "# City Definition\n",
    "\n",
    "Obviously, a good place for me to start is with some cities. Below is the table definition for the cities I will be exploring and their specific traits."
   ]
  },
  {
   "cell_type": "code",
   "execution_count": 16,
   "metadata": {},
   "outputs": [
    {
     "name": "stdout",
     "output_type": "stream",
     "text": [
      "2020-11-21 02:05:27,126 INFO sqlalchemy.engine.base.Engine SHOW VARIABLES LIKE 'sql_mode'\n",
      "2020-11-21 02:05:27,127 INFO sqlalchemy.engine.base.Engine {}\n",
      "2020-11-21 02:05:27,135 INFO sqlalchemy.engine.base.Engine SHOW VARIABLES LIKE 'lower_case_table_names'\n",
      "2020-11-21 02:05:27,135 INFO sqlalchemy.engine.base.Engine {}\n",
      "2020-11-21 02:05:27,144 INFO sqlalchemy.engine.base.Engine SELECT DATABASE()\n",
      "2020-11-21 02:05:27,145 INFO sqlalchemy.engine.base.Engine {}\n",
      "2020-11-21 02:05:27,151 INFO sqlalchemy.engine.base.Engine show collation where `Charset` = 'utf8mb4' and `Collation` = 'utf8mb4_bin'\n",
      "2020-11-21 02:05:27,152 INFO sqlalchemy.engine.base.Engine {}\n",
      "2020-11-21 02:05:27,169 INFO sqlalchemy.engine.base.Engine SELECT CAST('test plain returns' AS CHAR(60)) AS anon_1\n",
      "2020-11-21 02:05:27,171 INFO sqlalchemy.engine.base.Engine {}\n",
      "2020-11-21 02:05:27,183 INFO sqlalchemy.engine.base.Engine SELECT CAST('test unicode returns' AS CHAR(60)) AS anon_1\n",
      "2020-11-21 02:05:27,184 INFO sqlalchemy.engine.base.Engine {}\n",
      "2020-11-21 02:05:27,187 INFO sqlalchemy.engine.base.Engine SELECT CAST('test collated returns' AS CHAR CHARACTER SET utf8mb4) COLLATE utf8mb4_bin AS anon_1\n",
      "2020-11-21 02:05:27,188 INFO sqlalchemy.engine.base.Engine {}\n",
      "2020-11-21 02:05:27,196 INFO sqlalchemy.engine.base.Engine DESCRIBE `cities`\n",
      "2020-11-21 02:05:27,197 INFO sqlalchemy.engine.base.Engine {}\n",
      "2020-11-21 02:05:27,203 INFO sqlalchemy.engine.base.Engine \n",
      "DROP TABLE cities\n",
      "2020-11-21 02:05:27,204 INFO sqlalchemy.engine.base.Engine {}\n",
      "2020-11-21 02:05:27,219 INFO sqlalchemy.engine.base.Engine COMMIT\n",
      "2020-11-21 02:05:27,223 INFO sqlalchemy.engine.base.Engine DESCRIBE `cities`\n",
      "2020-11-21 02:05:27,224 INFO sqlalchemy.engine.base.Engine {}\n",
      "2020-11-21 02:05:27,246 INFO sqlalchemy.engine.base.Engine ROLLBACK\n",
      "2020-11-21 02:05:27,253 INFO sqlalchemy.engine.base.Engine \n",
      "CREATE TABLE cities (\n",
      "\tcity_name VARCHAR(50) NOT NULL COMMENT 'City Name', \n",
      "\tmetro_name VARCHAR(50) COMMENT 'Metropolitan Area Name', \n",
      "\tstate VARCHAR(2) NOT NULL COMMENT '2-Letter abbreviation of State', \n",
      "\tlat NUMERIC(10, 6) NOT NULL COMMENT 'Latitude of City', \n",
      "\tlng NUMERIC(10, 6) NOT NULL COMMENT 'Longitude of City', \n",
      "\tPRIMARY KEY (city_name)\n",
      ")\n",
      "\n",
      "\n",
      "2020-11-21 02:05:27,254 INFO sqlalchemy.engine.base.Engine {}\n",
      "2020-11-21 02:05:27,319 INFO sqlalchemy.engine.base.Engine COMMIT\n"
     ]
    }
   ],
   "source": [
    "engine = create_engine(secrets['db_connection_string'], echo=True)\n",
    "\n",
    "meta = MetaData()\n",
    "\n",
    "cities = Table(\n",
    "    'cities', meta,\n",
    "    Column('city_name', String(50), primary_key=True, comment='City Name'),\n",
    "    Column('metro_name', String(50), comment='Metropolitan Area Name'),\n",
    "    Column('state', String(2), nullable=False, comment='2-Letter abbreviation of State'),\n",
    "    Column('lat', Numeric(10, 6), nullable=False, comment='Latitude of City'),\n",
    "    Column('lng', Numeric(10, 6), nullable=False, comment='Longitude of City')\n",
    ")\n",
    "\n",
    "meta.drop_all(engine)\n",
    "meta.create_all(engine)"
   ]
  },
  {
   "cell_type": "markdown",
   "metadata": {},
   "source": [
    "Let's start with my birthplace: Fort Wayne, Indiana."
   ]
  },
  {
   "cell_type": "code",
   "execution_count": 18,
   "metadata": {},
   "outputs": [
    {
     "name": "stdout",
     "output_type": "stream",
     "text": [
      "2020-11-21 02:08:32,168 INFO sqlalchemy.engine.base.Engine INSERT INTO cities (city_name, metro_name, state) VALUES (%(city_name)s, %(metro_name)s, %(state)s)\n",
      "2020-11-21 02:08:32,169 INFO sqlalchemy.engine.base.Engine {'city_name': 'Fort Wayne', 'metro_name': 'Fort Wayne', 'state': 'IN'}\n",
      "2020-11-21 02:08:32,172 INFO sqlalchemy.engine.base.Engine ROLLBACK\n",
      "Oops! That didn't work.\n"
     ]
    }
   ],
   "source": [
    "new_city = cities.insert()\n",
    "\n",
    "try:\n",
    "    engine.execute(new_city, [\n",
    "        {'city_name': 'Fort Wayne', 'metro_name': 'Fort Wayne', 'state': 'IN'}\n",
    "    ])\n",
    "except:\n",
    "    print(\"Oops! That didn't work.\")"
   ]
  },
  {
   "cell_type": "markdown",
   "metadata": {},
   "source": [
    "Ah, the table requires some more data to be able to insert the record. I could use the geocoder library from before to get the latitude and longitude, but since I will be using Wikipedia anyway, let's see if I can grab it from there.\n",
    "\n",
    "I did some experimenting with the [Wikipedia API Sandbox](https://en.wikipedia.org/wiki/Special:ApiSandbox#action=parse&format=json&page=Fort%20Wayne%2C%20Indiana&redirects=1&prop=wikitext), and oddly enough while there are multiple endpoints capable of getting the _names_ of the templates used in a page, I could not for the life of me find a way to get the _data inserted to_ the templates in an easy format such as JSON. So instead, I'm going to grab the [wikitext](https://en.wikipedia.org/wiki/Help:Wikitext) and use [regular expressions](https://docs.python.org/3/library/re.html) to get the data I'm looking for out of the template."
   ]
  },
  {
   "cell_type": "code",
   "execution_count": 22,
   "metadata": {},
   "outputs": [],
   "source": [
    "city_name = 'Fort Wayne'\n",
    "state_name = 'IN'\n",
    "\n",
    "\n",
    "wikipedia_url = 'https://en.wikipedia.org/w/api.php'\n",
    "params = {\n",
    "    \"action\": \"parse\",\n",
    "    \"format\": \"json\",\n",
    "    \"redirects\": \"1\",\n",
    "    \"page\": url_encode(f'{city_name}, {state_name}'),\n",
    "    \"prop\": \"wikitext\"\n",
    "}"
   ]
  },
  {
   "cell_type": "code",
   "execution_count": null,
   "metadata": {},
   "outputs": [],
   "source": []
  }
 ],
 "metadata": {
  "kernelspec": {
   "display_name": "Python 3",
   "language": "python",
   "name": "python3"
  },
  "language_info": {
   "codemirror_mode": {
    "name": "ipython",
    "version": 3
   },
   "file_extension": ".py",
   "mimetype": "text/x-python",
   "name": "python",
   "nbconvert_exporter": "python",
   "pygments_lexer": "ipython3",
   "version": "3.8.5"
  }
 },
 "nbformat": 4,
 "nbformat_minor": 4
}
