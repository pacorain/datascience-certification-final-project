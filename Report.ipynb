{
 "cells": [
  {
   "cell_type": "markdown",
   "metadata": {},
   "source": [
    "# Clustering and Scoring Job Relocation Opportunities\n",
    "\n",
    "Austin Rainwater"
   ]
  },
  {
   "cell_type": "markdown",
   "metadata": {},
   "source": [
    "---"
   ]
  },
  {
   "cell_type": "markdown",
   "metadata": {},
   "source": [
    "## Table of Contents\n",
    "\n",
    "1. [Introduction](#Introduction)"
   ]
  },
  {
   "cell_type": "markdown",
   "metadata": {},
   "source": [
    "## Introduction\n",
    "\n",
    "I am looking for a new job, ideally as a data scientist. Incedentally, my wife and I are looking into finding a new home, and are exploring our options all over the country. One of the ways I'm searching for ideas is based on prospective job opportunities.\n",
    "\n",
    "The problem is, many of these opportunities are in major cities. We have found that we would be happier in a surrounding area, where home prices are likeley cheaper and we could get more space. As I find job opportunities, and we think of other potential places to live, we spend significant time researching each of the outlying cities trying to figure out if it would be a place we would like to live.\n",
    "\n",
    "I am hoping to use clustering, regression, and/or classification to accomplish one or more of the following goals:\n",
    "\n",
    " - Cluster geographical locations based on attributes that are important to us\n",
    " - Accept a city as an input, and output a score of how much it matches things we like\n",
    " - Classify attributes of neighborhoods as pros and cons based on previous input"
   ]
  }
 ],
 "metadata": {
  "kernelspec": {
   "display_name": "Python 3",
   "language": "python",
   "name": "python3"
  },
  "language_info": {
   "codemirror_mode": {
    "name": "ipython",
    "version": 3
   },
   "file_extension": ".py",
   "mimetype": "text/x-python",
   "name": "python",
   "nbconvert_exporter": "python",
   "pygments_lexer": "ipython3",
   "version": "3.8.5"
  }
 },
 "nbformat": 4,
 "nbformat_minor": 4
}
