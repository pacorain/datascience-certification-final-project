{
 "cells": [
  {
   "cell_type": "markdown",
   "metadata": {},
   "source": [
    "# Clustering and Scoring Job Relocation Opportunities\n",
    "\n",
    "Austin Rainwater"
   ]
  },
  {
   "cell_type": "markdown",
   "metadata": {},
   "source": [
    "---"
   ]
  },
  {
   "cell_type": "markdown",
   "metadata": {},
   "source": [
    "## Table of Contents\n",
    "\n",
    "1. [Introduction](#Introduction)\n",
    "2. [Data](#Data)"
   ]
  },
  {
   "cell_type": "markdown",
   "metadata": {},
   "source": [
    "## Introduction"
   ]
  },
  {
   "cell_type": "markdown",
   "metadata": {},
   "source": [
    "I am looking for a new job, ideally as a data scientist. Incedentally, my wife and I are looking into finding a new home, and are exploring our options all over the country. One way we are discovering new areas is through prospective job opportunities.\n",
    "\n",
    "The downside to this is that exploring what a city has to offer is time consuming, especially when the job is in a major city and we're more likely to find a place in a surrounding city."
   ]
  },
  {
   "cell_type": "markdown",
   "metadata": {},
   "source": [
    "I am hoping to use clustering, regression, and/or classification to accomplish one or more of the following goals:\n",
    "\n",
    " - Cluster geographical locations based on attributes that are important to us\n",
    " - Accept a city as an input, and output a score of how much it matches things we like\n",
    " - Classify attributes of neighborhoods as pros and cons based on previous input"
   ]
  },
  {
   "cell_type": "markdown",
   "metadata": {},
   "source": [
    "## Data"
   ]
  },
  {
   "cell_type": "markdown",
   "metadata": {},
   "source": [
    "The potential data sources for this project include:\n",
    "\n",
    " - Data from Foursquare's [places API](https://developer.foursquare.com/docs/places-api/)\n",
    " - Historical weather data from [Virtual Crossing](https://www.visualcrossing.com/)\n",
    " - [U.S. Election 2020 Data](https://www.kaggle.com/unanimad/us-election-2020)\n",
    " - [Realtor API](https://rapidapi.com/apidojo/api/realtor/details)\n",
    " - Tabular data from Wikipedia, as well as text analysis"
   ]
  }
 ],
 "metadata": {
  "kernelspec": {
   "display_name": "Python 3",
   "language": "python",
   "name": "python3"
  },
  "language_info": {
   "codemirror_mode": {
    "name": "ipython",
    "version": 3
   },
   "file_extension": ".py",
   "mimetype": "text/x-python",
   "name": "python",
   "nbconvert_exporter": "python",
   "pygments_lexer": "ipython3",
   "version": "3.8.5"
  }
 },
 "nbformat": 4,
 "nbformat_minor": 4
}
