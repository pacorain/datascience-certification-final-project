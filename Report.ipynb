{
 "cells": [
  {
   "cell_type": "markdown",
   "metadata": {},
   "source": [
    "# Clustering and Scoring Job Relocation Opportunities\n",
    "\n",
    "Austin Rainwater"
   ]
  },
  {
   "cell_type": "markdown",
   "metadata": {},
   "source": [
    "---"
   ]
  },
  {
   "cell_type": "markdown",
   "metadata": {},
   "source": [
    "## Table of Contents\n",
    "\n",
    "1. [Introduction](#Introduction)\n",
    "2. [Data](#Data)"
   ]
  },
  {
   "cell_type": "markdown",
   "metadata": {},
   "source": [
    "## Introduction"
   ]
  },
  {
   "cell_type": "markdown",
   "metadata": {},
   "source": [
    "I am looking for a new job, ideally as a data scientist. Incedentally, my wife and I are looking into finding a new home, and are exploring our options all over the country. One way we are discovering new areas is through prospective job opportunities.\n",
    "\n",
    "The downside to this is that exploring what a city has to offer is time consuming, especially when the job is in a major city and we're more likely to find a place in a surrounding city."
   ]
  },
  {
   "cell_type": "markdown",
   "metadata": {},
   "source": [
    "The question I'm curious about is as follows: **Is it possible for data scientists to build a pipeline that helps people who are looking to relocate find the place that fits them?**"
   ]
  },
  {
   "cell_type": "markdown",
   "metadata": {},
   "source": [
    "This is a huge question--one that I definitely won't be able to answer in a single report. However, I can start to explore whether _I_ can can build a pipeline to help me find the place _I'm_ looking for. As a result, I hope to produce _some_ meaningful insights for data scientists and recruiters, as well as specific areas for further exploration. "
   ]
  },
  {
   "cell_type": "markdown",
   "metadata": {},
   "source": [
    "I am hoping to use clustering, regression, and/or classification to accomplish one or more of the following goals:\n",
    "\n",
    " - Cluster geographical locations based on attributes that are important to us\n",
    " - Accept a city as an input, and output a score of how much it matches things we like\n",
    " - Classify attributes of neighborhoods as pros and cons based on previous input"
   ]
  },
  {
   "cell_type": "markdown",
   "metadata": {},
   "source": [
    "## Data"
   ]
  },
  {
   "cell_type": "markdown",
   "metadata": {},
   "source": [
    "The potential data sources for this project include:\n",
    "\n",
    " - Data from Foursquare's [places API](https://developer.foursquare.com/docs/places-api/)\n",
    "   - What are the top or trending places for locals to visit?\n",
    "   - What are the offerings in the venue types that are important to us?\n",
    " - Historical weather data from [Virtual Crossing](https://www.visualcrossing.com/)\n",
    "   - How warm does it get throughout the year? How cold does it get?\n",
    "   - What is the average rainfall?\n",
    " - [U.S. Presedential Election 2020 Data](https://www.kaggle.com/unanimad/us-election-2020)\n",
    "   - What is the political climate like? How much do political views vary?\n",
    " - [Realtor API](https://rapidapi.com/apidojo/api/realtor/details)\n",
    "   - What are the homes like within our budget?\n",
    "   - What are the prices of homes that we might like?\n",
    " - Tabular data from Wikipedia, as well as text analysis\n",
    "   - Are there other communities in the metropolitan area to explore?\n",
    "   - What is the population? How dense is it?\n",
    "   - How much history does the town have? (How many words are in its history section? How many sections?)\n",
    "   - What ar ethe kind"
   ]
  }
 ],
 "metadata": {
  "kernelspec": {
   "display_name": "Python 3",
   "language": "python",
   "name": "python3"
  },
  "language_info": {
   "codemirror_mode": {
    "name": "ipython",
    "version": 3
   },
   "file_extension": ".py",
   "mimetype": "text/x-python",
   "name": "python",
   "nbconvert_exporter": "python",
   "pygments_lexer": "ipython3",
   "version": "3.8.5"
  }
 },
 "nbformat": 4,
 "nbformat_minor": 4
}
